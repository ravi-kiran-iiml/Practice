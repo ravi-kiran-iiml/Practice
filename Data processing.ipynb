{
  "nbformat": 4,
  "nbformat_minor": 0,
  "metadata": {
    "colab": {
      "provenance": [],
      "authorship_tag": "ABX9TyP38s8CsC6Efn7uRMo+W/Vq",
      "include_colab_link": true
    },
    "kernelspec": {
      "name": "python3",
      "display_name": "Python 3"
    },
    "language_info": {
      "name": "python"
    }
  },
  "cells": [
    {
      "cell_type": "markdown",
      "metadata": {
        "id": "view-in-github",
        "colab_type": "text"
      },
      "source": [
        "<a href=\"https://colab.research.google.com/github/ravi-kiran-iiml/Practice/blob/main/Data%20processing.ipynb\" target=\"_parent\"><img src=\"https://colab.research.google.com/assets/colab-badge.svg\" alt=\"Open In Colab\"/></a>"
      ]
    },
    {
      "cell_type": "markdown",
      "source": [
        "Notebook 03"
      ],
      "metadata": {
        "id": "F-aFPMiGEeP7"
      }
    },
    {
      "cell_type": "code",
      "execution_count": 8,
      "metadata": {
        "id": "AzCSD7EnEW0-"
      },
      "outputs": [],
      "source": [
        "import pandas as pd\n",
        "import numpy as np\n",
        "\n",
        "df= pd.read_csv('Data_Players.csv')\n",
        "#df\n",
        "\n"
      ]
    },
    {
      "cell_type": "code",
      "source": [
        "x = df.iloc[:,2:].values\n",
        "y_score = df.iloc[:,0].values\n",
        "y_class = df.iloc[:,1].values\n",
        "\n",
        "#print(x)"
      ],
      "metadata": {
        "id": "IWF_Y21Y1lsV"
      },
      "execution_count": 9,
      "outputs": []
    },
    {
      "cell_type": "code",
      "source": [
        "import sklearn\n",
        "from sklearn import preprocessing\n",
        "encoder = preprocessing.LabelEncoder()\n",
        "y_class_encoded = encoder.fit_transform(y_class)\n",
        "#print(y_class_encoded)\n"
      ],
      "metadata": {
        "id": "KL2HEG_B11HC"
      },
      "execution_count": 10,
      "outputs": []
    },
    {
      "cell_type": "code",
      "source": [
        "dataset = [x,y_score,y_class_encoded]\n",
        "print(dataset)"
      ],
      "metadata": {
        "id": "XTyCw6Q11uoz",
        "outputId": "e7653072-f47d-4952-cb55-7002a50dcff3",
        "colab": {
          "base_uri": "https://localhost:8080/"
        }
      },
      "execution_count": 12,
      "outputs": [
        {
          "output_type": "stream",
          "name": "stdout",
          "text": [
            "[array([[5.42176150e-01, 4.00000000e+00, 2.40000000e+01, ...,\n",
            "        1.21691867e+02, 4.60104503e-01, 5.00000000e+00],\n",
            "       [4.13771714e-01, 8.00000000e+00, 4.70000000e+01, ...,\n",
            "        3.98306646e+02, 1.79693269e-01, 9.00000000e+00],\n",
            "       [4.63229310e-02, 3.00000000e+00, 3.30000000e+01, ...,\n",
            "        5.18135294e+02, 3.29711970e-01, 5.00000000e+00],\n",
            "       ...,\n",
            "       [7.20584543e-01, 1.00000000e+00, 5.00000000e+01, ...,\n",
            "        1.44174297e+02, 4.05597145e-01, 6.00000000e+00],\n",
            "       [3.61590181e-01, 8.00000000e+00, 8.40000000e+01, ...,\n",
            "        2.84000924e+02, 5.40779427e-01, 3.00000000e+00],\n",
            "       [4.61250185e-01, 4.00000000e+00, 2.70000000e+01, ...,\n",
            "        9.31352246e+01, 9.69678190e-02, 1.00000000e+01]]), array([80, 88, 43, ..., 49, 84, 11]), array([4, 2, 2, ..., 0, 6, 1])]\n"
          ]
        }
      ]
    },
    {
      "cell_type": "code",
      "source": [],
      "metadata": {
        "id": "xDWSQSJc4M3k"
      },
      "execution_count": null,
      "outputs": []
    }
  ]
}