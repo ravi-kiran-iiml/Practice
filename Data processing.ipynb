{
  "nbformat": 4,
  "nbformat_minor": 0,
  "metadata": {
    "colab": {
      "provenance": [],
      "authorship_tag": "ABX9TyND0Gv5gsSs5lfWnsQwKKra",
      "include_colab_link": true
    },
    "kernelspec": {
      "name": "python3",
      "display_name": "Python 3"
    },
    "language_info": {
      "name": "python"
    }
  },
  "cells": [
    {
      "cell_type": "markdown",
      "metadata": {
        "id": "view-in-github",
        "colab_type": "text"
      },
      "source": [
        "<a href=\"https://colab.research.google.com/github/ravi-kiran-iiml/Practice/blob/main/Data%20processing.ipynb\" target=\"_parent\"><img src=\"https://colab.research.google.com/assets/colab-badge.svg\" alt=\"Open In Colab\"/></a>"
      ]
    },
    {
      "cell_type": "markdown",
      "source": [
        "Notebook 03"
      ],
      "metadata": {
        "id": "F-aFPMiGEeP7"
      }
    },
    {
      "cell_type": "code",
      "execution_count": 8,
      "metadata": {
        "id": "AzCSD7EnEW0-"
      },
      "outputs": [],
      "source": [
        "import pandas as pd\n",
        "import numpy as np\n",
        "\n",
        "df= pd.read_csv('Data_Players.csv')\n",
        "#df\n",
        "\n"
      ]
    },
    {
      "cell_type": "code",
      "source": [
        "x = df.iloc[:,2:].values\n",
        "y_score = df.iloc[:,0].values\n",
        "y_class = df.iloc[:,1].values\n",
        "\n",
        "#print(x)"
      ],
      "metadata": {
        "id": "IWF_Y21Y1lsV"
      },
      "execution_count": 9,
      "outputs": []
    },
    {
      "cell_type": "code",
      "source": [
        "import sklearn\n",
        "from sklearn import preprocessing\n",
        "encoder = preprocessing.LabelEncoder()\n",
        "y_class_encoded = encoder.fit_transform(y_class)\n",
        "#print(y_class_encoded)\n"
      ],
      "metadata": {
        "id": "KL2HEG_B11HC"
      },
      "execution_count": 10,
      "outputs": []
    },
    {
      "cell_type": "code",
      "source": [
        "dataset = [x,y_score,y_class_encoded]\n",
        "print(dataset)"
      ],
      "metadata": {
        "colab": {
          "base_uri": "https://localhost:8080/"
        },
        "id": "XTyCw6Q11uoz",
        "outputId": "e7653072-f47d-4952-cb55-7002a50dcff3"
      },
      "execution_count": 12,
      "outputs": [
        {
          "output_type": "stream",
          "name": "stdout",
          "text": [
            "[array([[5.42176150e-01, 4.00000000e+00, 2.40000000e+01, ...,\n",
            "        1.21691867e+02, 4.60104503e-01, 5.00000000e+00],\n",
            "       [4.13771714e-01, 8.00000000e+00, 4.70000000e+01, ...,\n",
            "        3.98306646e+02, 1.79693269e-01, 9.00000000e+00],\n",
            "       [4.63229310e-02, 3.00000000e+00, 3.30000000e+01, ...,\n",
            "        5.18135294e+02, 3.29711970e-01, 5.00000000e+00],\n",
            "       ...,\n",
            "       [7.20584543e-01, 1.00000000e+00, 5.00000000e+01, ...,\n",
            "        1.44174297e+02, 4.05597145e-01, 6.00000000e+00],\n",
            "       [3.61590181e-01, 8.00000000e+00, 8.40000000e+01, ...,\n",
            "        2.84000924e+02, 5.40779427e-01, 3.00000000e+00],\n",
            "       [4.61250185e-01, 4.00000000e+00, 2.70000000e+01, ...,\n",
            "        9.31352246e+01, 9.69678190e-02, 1.00000000e+01]]), array([80, 88, 43, ..., 49, 84, 11]), array([4, 2, 2, ..., 0, 6, 1])]\n"
          ]
        }
      ]
    },
    {
      "cell_type": "code",
      "source": [
        "from sklearn.model_selection import train_test_split\n",
        "\n",
        "X_train, X_test, y_train, y_test = train_test_split(x, y_score, test_size=0.2, random_state=42)\n"
      ],
      "metadata": {
        "id": "xDWSQSJc4M3k"
      },
      "execution_count": 13,
      "outputs": []
    },
    {
      "cell_type": "code",
      "source": [
        "# MLP using keras\n",
        "\n",
        "from keras.layers import Input, Dense\n",
        "from keras.models import Model\n",
        "\n",
        "input_shape = 50\n",
        "\n",
        "# Define the input layer and the first hidden layer\n",
        "inputs = Input(shape=(input_shape,))\n",
        "hidden1 = Dense(units=200, activation='relu')(inputs)\n",
        "hidden2 = Dense(units=200, activation='relu')(hidden1)\n",
        "# Define the output layer\n",
        "outputs = Dense(units=1, activation='linear')(hidden2)\n",
        "\n",
        "# Create the model\n",
        "model = Model(inputs=inputs, outputs=outputs)\n",
        "\n",
        "# Model compile\n",
        "model.compile(loss='mean_squared_error', optimizer='adam', metrics=['accuracy'])\n",
        "\n",
        "model.summary()\n"
      ],
      "metadata": {
        "id": "YBVChSYd6dlb",
        "outputId": "663638bc-ad06-46c6-ed16-0355ffe320bd",
        "colab": {
          "base_uri": "https://localhost:8080/"
        }
      },
      "execution_count": 14,
      "outputs": [
        {
          "output_type": "stream",
          "name": "stdout",
          "text": [
            "Model: \"model\"\n",
            "_________________________________________________________________\n",
            " Layer (type)                Output Shape              Param #   \n",
            "=================================================================\n",
            " input_1 (InputLayer)        [(None, 50)]              0         \n",
            "                                                                 \n",
            " dense (Dense)               (None, 200)               10200     \n",
            "                                                                 \n",
            " dense_1 (Dense)             (None, 200)               40200     \n",
            "                                                                 \n",
            " dense_2 (Dense)             (None, 1)                 201       \n",
            "                                                                 \n",
            "=================================================================\n",
            "Total params: 50,601\n",
            "Trainable params: 50,601\n",
            "Non-trainable params: 0\n",
            "_________________________________________________________________\n"
          ]
        }
      ]
    },
    {
      "cell_type": "code",
      "source": [
        "model.fit(X_train, y_train, batch_size=128, epochs=100, verbose=1)"
      ],
      "metadata": {
        "id": "XBTpGSkD8Gdw",
        "outputId": "d63128aa-b5b8-4bb6-a664-e393c01b3199",
        "colab": {
          "base_uri": "https://localhost:8080/"
        }
      },
      "execution_count": 16,
      "outputs": [
        {
          "output_type": "stream",
          "name": "stdout",
          "text": [
            "Epoch 1/100\n",
            "9/9 [==============================] - 0s 4ms/step - loss: 423.6057 - accuracy: 0.0000e+00\n",
            "Epoch 2/100\n",
            "9/9 [==============================] - 0s 4ms/step - loss: 412.1651 - accuracy: 0.0000e+00\n",
            "Epoch 3/100\n",
            "9/9 [==============================] - 0s 4ms/step - loss: 395.4251 - accuracy: 0.0000e+00\n",
            "Epoch 4/100\n",
            "9/9 [==============================] - 0s 4ms/step - loss: 389.6161 - accuracy: 0.0000e+00\n",
            "Epoch 5/100\n",
            "9/9 [==============================] - 0s 4ms/step - loss: 393.0622 - accuracy: 0.0000e+00\n",
            "Epoch 6/100\n",
            "9/9 [==============================] - 0s 4ms/step - loss: 398.1374 - accuracy: 0.0000e+00\n",
            "Epoch 7/100\n",
            "9/9 [==============================] - 0s 4ms/step - loss: 373.6245 - accuracy: 0.0000e+00\n",
            "Epoch 8/100\n",
            "9/9 [==============================] - 0s 4ms/step - loss: 400.7043 - accuracy: 0.0000e+00\n",
            "Epoch 9/100\n",
            "9/9 [==============================] - 0s 5ms/step - loss: 396.7563 - accuracy: 0.0000e+00\n",
            "Epoch 10/100\n",
            "9/9 [==============================] - 0s 4ms/step - loss: 384.4113 - accuracy: 0.0000e+00\n",
            "Epoch 11/100\n",
            "9/9 [==============================] - 0s 4ms/step - loss: 367.8385 - accuracy: 0.0000e+00\n",
            "Epoch 12/100\n",
            "9/9 [==============================] - 0s 4ms/step - loss: 362.0837 - accuracy: 0.0000e+00\n",
            "Epoch 13/100\n",
            "9/9 [==============================] - 0s 4ms/step - loss: 336.3853 - accuracy: 0.0000e+00\n",
            "Epoch 14/100\n",
            "9/9 [==============================] - 0s 4ms/step - loss: 331.8133 - accuracy: 0.0000e+00\n",
            "Epoch 15/100\n",
            "9/9 [==============================] - 0s 4ms/step - loss: 319.8894 - accuracy: 0.0000e+00\n",
            "Epoch 16/100\n",
            "9/9 [==============================] - 0s 4ms/step - loss: 308.1094 - accuracy: 0.0000e+00\n",
            "Epoch 17/100\n",
            "9/9 [==============================] - 0s 4ms/step - loss: 301.7163 - accuracy: 0.0000e+00\n",
            "Epoch 18/100\n",
            "9/9 [==============================] - 0s 4ms/step - loss: 291.5495 - accuracy: 0.0000e+00\n",
            "Epoch 19/100\n",
            "9/9 [==============================] - 0s 5ms/step - loss: 309.3709 - accuracy: 0.0000e+00\n",
            "Epoch 20/100\n",
            "9/9 [==============================] - 0s 4ms/step - loss: 314.6940 - accuracy: 0.0000e+00\n",
            "Epoch 21/100\n",
            "9/9 [==============================] - 0s 4ms/step - loss: 275.3839 - accuracy: 0.0000e+00\n",
            "Epoch 22/100\n",
            "9/9 [==============================] - 0s 4ms/step - loss: 271.8163 - accuracy: 0.0000e+00\n",
            "Epoch 23/100\n",
            "9/9 [==============================] - 0s 4ms/step - loss: 280.1529 - accuracy: 0.0000e+00\n",
            "Epoch 24/100\n",
            "9/9 [==============================] - 0s 4ms/step - loss: 276.6941 - accuracy: 0.0000e+00\n",
            "Epoch 25/100\n",
            "9/9 [==============================] - 0s 4ms/step - loss: 255.8914 - accuracy: 0.0000e+00\n",
            "Epoch 26/100\n",
            "9/9 [==============================] - 0s 4ms/step - loss: 253.0367 - accuracy: 0.0000e+00\n",
            "Epoch 27/100\n",
            "9/9 [==============================] - 0s 4ms/step - loss: 265.4251 - accuracy: 0.0000e+00\n",
            "Epoch 28/100\n",
            "9/9 [==============================] - 0s 4ms/step - loss: 243.6090 - accuracy: 0.0000e+00\n",
            "Epoch 29/100\n",
            "9/9 [==============================] - 0s 4ms/step - loss: 288.6444 - accuracy: 0.0000e+00\n",
            "Epoch 30/100\n",
            "9/9 [==============================] - 0s 4ms/step - loss: 305.5865 - accuracy: 0.0000e+00\n",
            "Epoch 31/100\n",
            "9/9 [==============================] - 0s 4ms/step - loss: 263.1866 - accuracy: 0.0000e+00\n",
            "Epoch 32/100\n",
            "9/9 [==============================] - 0s 4ms/step - loss: 248.4553 - accuracy: 0.0000e+00\n",
            "Epoch 33/100\n",
            "9/9 [==============================] - 0s 4ms/step - loss: 228.3592 - accuracy: 0.0000e+00\n",
            "Epoch 34/100\n",
            "9/9 [==============================] - 0s 4ms/step - loss: 242.4919 - accuracy: 0.0000e+00\n",
            "Epoch 35/100\n",
            "9/9 [==============================] - 0s 5ms/step - loss: 294.2670 - accuracy: 0.0000e+00\n",
            "Epoch 36/100\n",
            "9/9 [==============================] - 0s 4ms/step - loss: 290.2581 - accuracy: 0.0000e+00\n",
            "Epoch 37/100\n",
            "9/9 [==============================] - 0s 4ms/step - loss: 265.6449 - accuracy: 0.0000e+00\n",
            "Epoch 38/100\n",
            "9/9 [==============================] - 0s 4ms/step - loss: 227.1994 - accuracy: 0.0000e+00\n",
            "Epoch 39/100\n",
            "9/9 [==============================] - 0s 4ms/step - loss: 200.3236 - accuracy: 0.0000e+00\n",
            "Epoch 40/100\n",
            "9/9 [==============================] - 0s 4ms/step - loss: 206.3677 - accuracy: 0.0000e+00\n",
            "Epoch 41/100\n",
            "9/9 [==============================] - 0s 4ms/step - loss: 227.1496 - accuracy: 0.0000e+00\n",
            "Epoch 42/100\n",
            "9/9 [==============================] - 0s 4ms/step - loss: 206.8539 - accuracy: 0.0000e+00\n",
            "Epoch 43/100\n",
            "9/9 [==============================] - 0s 4ms/step - loss: 189.6332 - accuracy: 0.0000e+00\n",
            "Epoch 44/100\n",
            "9/9 [==============================] - 0s 4ms/step - loss: 196.6137 - accuracy: 0.0000e+00\n",
            "Epoch 45/100\n",
            "9/9 [==============================] - 0s 5ms/step - loss: 174.7983 - accuracy: 0.0000e+00\n",
            "Epoch 46/100\n",
            "9/9 [==============================] - 0s 4ms/step - loss: 167.1394 - accuracy: 0.0000e+00\n",
            "Epoch 47/100\n",
            "9/9 [==============================] - 0s 4ms/step - loss: 169.6252 - accuracy: 0.0000e+00\n",
            "Epoch 48/100\n",
            "9/9 [==============================] - 0s 4ms/step - loss: 160.2514 - accuracy: 0.0000e+00\n",
            "Epoch 49/100\n",
            "9/9 [==============================] - 0s 4ms/step - loss: 175.2190 - accuracy: 0.0000e+00\n",
            "Epoch 50/100\n",
            "9/9 [==============================] - 0s 4ms/step - loss: 198.0056 - accuracy: 0.0000e+00\n",
            "Epoch 51/100\n",
            "9/9 [==============================] - 0s 4ms/step - loss: 183.5852 - accuracy: 0.0000e+00\n",
            "Epoch 52/100\n",
            "9/9 [==============================] - 0s 4ms/step - loss: 198.8673 - accuracy: 0.0000e+00\n",
            "Epoch 53/100\n",
            "9/9 [==============================] - 0s 4ms/step - loss: 149.6168 - accuracy: 0.0000e+00\n",
            "Epoch 54/100\n",
            "9/9 [==============================] - 0s 5ms/step - loss: 145.0292 - accuracy: 0.0000e+00\n",
            "Epoch 55/100\n",
            "9/9 [==============================] - 0s 4ms/step - loss: 134.6597 - accuracy: 0.0000e+00\n",
            "Epoch 56/100\n",
            "9/9 [==============================] - 0s 4ms/step - loss: 135.6279 - accuracy: 0.0000e+00\n",
            "Epoch 57/100\n",
            "9/9 [==============================] - 0s 4ms/step - loss: 153.5190 - accuracy: 0.0000e+00\n",
            "Epoch 58/100\n",
            "9/9 [==============================] - 0s 4ms/step - loss: 131.6509 - accuracy: 0.0000e+00\n",
            "Epoch 59/100\n",
            "9/9 [==============================] - 0s 4ms/step - loss: 128.1309 - accuracy: 0.0000e+00\n",
            "Epoch 60/100\n",
            "9/9 [==============================] - 0s 4ms/step - loss: 123.3370 - accuracy: 0.0000e+00\n",
            "Epoch 61/100\n",
            "9/9 [==============================] - 0s 4ms/step - loss: 124.0463 - accuracy: 0.0000e+00\n",
            "Epoch 62/100\n",
            "9/9 [==============================] - 0s 4ms/step - loss: 135.9220 - accuracy: 0.0000e+00\n",
            "Epoch 63/100\n",
            "9/9 [==============================] - 0s 4ms/step - loss: 161.6198 - accuracy: 0.0000e+00\n",
            "Epoch 64/100\n",
            "9/9 [==============================] - 0s 4ms/step - loss: 145.0846 - accuracy: 0.0000e+00\n",
            "Epoch 65/100\n",
            "9/9 [==============================] - 0s 4ms/step - loss: 123.6353 - accuracy: 0.0000e+00\n",
            "Epoch 66/100\n",
            "9/9 [==============================] - 0s 4ms/step - loss: 157.0470 - accuracy: 0.0000e+00\n",
            "Epoch 67/100\n",
            "9/9 [==============================] - 0s 4ms/step - loss: 142.1328 - accuracy: 0.0000e+00\n",
            "Epoch 68/100\n",
            "9/9 [==============================] - 0s 4ms/step - loss: 144.0190 - accuracy: 0.0000e+00\n",
            "Epoch 69/100\n",
            "9/9 [==============================] - 0s 4ms/step - loss: 117.8300 - accuracy: 0.0000e+00\n",
            "Epoch 70/100\n",
            "9/9 [==============================] - 0s 5ms/step - loss: 106.1411 - accuracy: 0.0000e+00\n",
            "Epoch 71/100\n",
            "9/9 [==============================] - 0s 4ms/step - loss: 112.4468 - accuracy: 0.0000e+00\n",
            "Epoch 72/100\n",
            "9/9 [==============================] - 0s 4ms/step - loss: 98.4211 - accuracy: 0.0000e+00\n",
            "Epoch 73/100\n",
            "9/9 [==============================] - 0s 4ms/step - loss: 89.9334 - accuracy: 0.0000e+00\n",
            "Epoch 74/100\n",
            "9/9 [==============================] - 0s 4ms/step - loss: 85.6214 - accuracy: 0.0000e+00\n",
            "Epoch 75/100\n",
            "9/9 [==============================] - 0s 4ms/step - loss: 95.2655 - accuracy: 0.0000e+00\n",
            "Epoch 76/100\n",
            "9/9 [==============================] - 0s 5ms/step - loss: 87.2393 - accuracy: 0.0000e+00\n",
            "Epoch 77/100\n",
            "9/9 [==============================] - 0s 4ms/step - loss: 91.1103 - accuracy: 0.0000e+00\n",
            "Epoch 78/100\n",
            "9/9 [==============================] - 0s 4ms/step - loss: 94.0221 - accuracy: 0.0000e+00\n",
            "Epoch 79/100\n",
            "9/9 [==============================] - 0s 4ms/step - loss: 107.3676 - accuracy: 0.0000e+00\n",
            "Epoch 80/100\n",
            "9/9 [==============================] - 0s 6ms/step - loss: 80.7126 - accuracy: 0.0000e+00\n",
            "Epoch 81/100\n",
            "9/9 [==============================] - 0s 4ms/step - loss: 69.8754 - accuracy: 0.0000e+00\n",
            "Epoch 82/100\n",
            "9/9 [==============================] - 0s 4ms/step - loss: 66.2017 - accuracy: 0.0000e+00\n",
            "Epoch 83/100\n",
            "9/9 [==============================] - 0s 4ms/step - loss: 61.2906 - accuracy: 0.0000e+00\n",
            "Epoch 84/100\n",
            "9/9 [==============================] - 0s 4ms/step - loss: 63.1655 - accuracy: 0.0000e+00\n",
            "Epoch 85/100\n",
            "9/9 [==============================] - 0s 4ms/step - loss: 60.3430 - accuracy: 0.0000e+00\n",
            "Epoch 86/100\n",
            "9/9 [==============================] - 0s 4ms/step - loss: 63.1926 - accuracy: 0.0000e+00\n",
            "Epoch 87/100\n",
            "9/9 [==============================] - 0s 4ms/step - loss: 63.1108 - accuracy: 0.0000e+00\n",
            "Epoch 88/100\n",
            "9/9 [==============================] - 0s 4ms/step - loss: 64.2601 - accuracy: 0.0000e+00\n",
            "Epoch 89/100\n",
            "9/9 [==============================] - 0s 4ms/step - loss: 85.9825 - accuracy: 0.0000e+00\n",
            "Epoch 90/100\n",
            "9/9 [==============================] - 0s 4ms/step - loss: 55.7517 - accuracy: 0.0000e+00\n",
            "Epoch 91/100\n",
            "9/9 [==============================] - 0s 4ms/step - loss: 55.9597 - accuracy: 0.0000e+00\n",
            "Epoch 92/100\n",
            "9/9 [==============================] - 0s 4ms/step - loss: 55.4517 - accuracy: 0.0000e+00\n",
            "Epoch 93/100\n",
            "9/9 [==============================] - 0s 4ms/step - loss: 51.5461 - accuracy: 0.0000e+00\n",
            "Epoch 94/100\n",
            "9/9 [==============================] - 0s 4ms/step - loss: 49.8382 - accuracy: 0.0000e+00\n",
            "Epoch 95/100\n",
            "9/9 [==============================] - 0s 4ms/step - loss: 43.4380 - accuracy: 0.0000e+00\n",
            "Epoch 96/100\n",
            "9/9 [==============================] - 0s 4ms/step - loss: 43.3403 - accuracy: 0.0000e+00\n",
            "Epoch 97/100\n",
            "9/9 [==============================] - 0s 4ms/step - loss: 46.8703 - accuracy: 0.0000e+00\n",
            "Epoch 98/100\n",
            "9/9 [==============================] - 0s 5ms/step - loss: 51.4172 - accuracy: 0.0000e+00\n",
            "Epoch 99/100\n",
            "9/9 [==============================] - 0s 4ms/step - loss: 48.9195 - accuracy: 0.0000e+00\n",
            "Epoch 100/100\n",
            "9/9 [==============================] - 0s 4ms/step - loss: 49.3672 - accuracy: 0.0000e+00\n"
          ]
        },
        {
          "output_type": "execute_result",
          "data": {
            "text/plain": [
              "<keras.callbacks.History at 0x7fb72e3de3d0>"
            ]
          },
          "metadata": {},
          "execution_count": 16
        }
      ]
    },
    {
      "cell_type": "code",
      "source": [],
      "metadata": {
        "id": "H2UbWyWy8P7x"
      },
      "execution_count": null,
      "outputs": []
    }
  ]
}